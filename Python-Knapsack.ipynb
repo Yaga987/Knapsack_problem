{
 "cells": [
  {
   "cell_type": "code",
   "execution_count": 246,
   "metadata": {},
   "outputs": [],
   "source": [
    "import numpy as np\n",
    "import math\n",
    "import random\n",
    "from tqdm._tqdm_notebook import tqdm"
   ]
  },
  {
   "cell_type": "code",
   "execution_count": 247,
   "metadata": {},
   "outputs": [
    {
     "data": {
      "application/vnd.jupyter.widget-view+json": {
       "model_id": "7047fbc982ed444eb85f7e9e98c92bf7",
       "version_major": 2,
       "version_minor": 0
      },
      "text/plain": [
       "  0%|          | 0/10000000 [00:00<?, ?it/s]"
      ]
     },
     "metadata": {},
     "output_type": "display_data"
    }
   ],
   "source": [
    "item_Num = 10000000\n",
    "items = []\n",
    "for _ in tqdm(range(item_Num)):\n",
    "    item_weight = round(random.randint(1,10) + random.random(), 1)\n",
    "    item_value = round(random.random(), 1)\n",
    "    if item_value < 0.1:\n",
    "        item_value = 0.1\n",
    "    items.append((item_weight,item_value))"
   ]
  },
  {
   "cell_type": "code",
   "execution_count": 248,
   "metadata": {},
   "outputs": [
    {
     "name": "stdout",
     "output_type": "stream",
     "text": [
      "0.1,1.0,1.0,11.0\n"
     ]
    }
   ],
   "source": [
    "min_weight = min(items, key=lambda x: x[0])[0]\n",
    "max_weight = max(items, key=lambda x: x[0])[0]\n",
    "min_value = min(items, key=lambda x: x[1])[1]\n",
    "max_value = max(items, key=lambda x: x[1])[1]\n",
    "print(f'{min_value},{max_value},{min_weight},{max_weight}')"
   ]
  },
  {
   "cell_type": "code",
   "execution_count": 282,
   "metadata": {},
   "outputs": [],
   "source": [
    "weight_limit = 10000\n",
    "population_size = 2\n",
    "generation_num = 5\n",
    "mutation_rate = 0.01\n",
    "min_item = 2\n",
    "max_item = 3"
   ]
  },
  {
   "cell_type": "code",
   "execution_count": 283,
   "metadata": {},
   "outputs": [],
   "source": [
    "# ----------------------------------------------------------------------------------------------------------------------------------------------------------------------\n",
    "# Random Solution\n",
    "# ----------------------------------------------------------------------------------------------------------------------------------------------------------------------\n",
    "\n",
    "def fill():\n",
    "    sol = []\n",
    "    for _ in range(population_size):\n",
    "        bag = []\n",
    "        total_weight = 0\n",
    "        total_value = 0\n",
    "        while (math.ceil(total_weight + max_weight) <= weight_limit):\n",
    "            item = random.choice(items)\n",
    "            (x,y) = item\n",
    "            total_value += round(y, 1)\n",
    "            total_weight += round(x, 1)\n",
    "            total_weight = round(total_weight, 1)\n",
    "            total_value = round(total_value, 1)\n",
    "            bag.append(item)\n",
    "        if len(bag) > max_item or len(bag) < min_item:\n",
    "            total_value -= len(bag)\n",
    "        sol.append((bag,total_value,total_weight))\n",
    "    return sol"
   ]
  },
  {
   "cell_type": "code",
   "execution_count": 284,
   "metadata": {},
   "outputs": [
    {
     "name": "stdout",
     "output_type": "stream",
     "text": [
      "-----------------------------------------------------------------------------------------------------------------------------------------------------------\n",
      "=== Generation 1 best solution === \n",
      "-824.2\n",
      "=== Moving to the new generation === \n",
      "-----------------------------------------------------------------------------------------------------------------------------------------------------------\n",
      "-----------------------------------------------------------------------------------------------------------------------------------------------------------\n",
      "=== Generation 2 best solution === \n",
      "7.4\n",
      "=== Moving to the new generation === \n",
      "-----------------------------------------------------------------------------------------------------------------------------------------------------------\n",
      "-----------------------------------------------------------------------------------------------------------------------------------------------------------\n",
      "=== Generation 3 best solution === \n",
      "7.4\n",
      "=== Moving to the new generation === \n",
      "-----------------------------------------------------------------------------------------------------------------------------------------------------------\n",
      "-----------------------------------------------------------------------------------------------------------------------------------------------------------\n",
      "=== Generation 4 best solution === \n",
      "7.4\n",
      "=== Moving to the new generation === \n",
      "-----------------------------------------------------------------------------------------------------------------------------------------------------------\n",
      "-----------------------------------------------------------------------------------------------------------------------------------------------------------\n",
      "=== Generation 5 best solution === \n",
      "7.4\n",
      "=== Moving to the new generation === \n",
      "-----------------------------------------------------------------------------------------------------------------------------------------------------------\n"
     ]
    }
   ],
   "source": [
    "ranked_sol = fill()\n",
    "\n",
    "for i in range (generation_num):\n",
    "    print('-----------------------------------------------------------------------------------------------------------------------------------------------------------')\n",
    "# ----------------------------------------------------------------------------------------------------------------------------------------------------------------------\n",
    "# Sort and Select\n",
    "# ----------------------------------------------------------------------------------------------------------------------------------------------------------------------\n",
    "    ranked_sol.sort(key=lambda x: x[1], reverse=True)\n",
    "    print(f'=== Generation {i + 1} best solution === ')\n",
    "    print(ranked_sol[0][1])\n",
    "# ----------------------------------------------------------------------------------------------------------------------------------------------------------------------\n",
    "# Cross-Over and Mutate\n",
    "# ----------------------------------------------------------------------------------------------------------------------------------------------------------------------\n",
    "    new_sol = []\n",
    "    \n",
    "    if ranked_sol[0][1] > bestsol[1]:\n",
    "        bestsol = ranked_sol[0]\n",
    "\n",
    "    new_sol.append(bestsol)\n",
    "\n",
    "    for i in range(population_size // 2):\n",
    "        parent1 = random.choice(ranked_sol[population_size // 4:])\n",
    "        parent2 = random.choice(ranked_sol[population_size // 4:])\n",
    "\n",
    "        random_num = random.randint(1, population_size-1)\n",
    "\n",
    "        child1 = (parent1[:random_num]) + (parent2[random_num:])\n",
    "        child2 = (parent2[:random_num]) + (parent1[random_num:])\n",
    "\n",
    "        # if random.random() < mutation_rate:\n",
    "        #     # Random pop and insert for mutation\n",
    "        #     child1_copy = child1.copy()\n",
    "        #     child2_copy = child2.copy()\n",
    "\n",
    "        #     child1_pop_index = random.randrange(len(child1_copy))\n",
    "        #     child1.pop(child1_pop_index)\n",
    "        #     item = random.choice(items)\n",
    "        #     child1.insert(child1_pop_index, item)\n",
    "\n",
    "        #     child2_pop_index = random.randrange(len(child2_copy))\n",
    "        #     child2.pop(child2_pop_index)\n",
    "        #     item = random.choice(items)\n",
    "        #     child2.insert(child2_pop_index, item)\n",
    "\n",
    "        new_sol.append(child1)\n",
    "        new_sol.append(child2)\n",
    "\n",
    "    for child in new_sol.copy():\n",
    "        (x, y, z) = child\n",
    "        if z > weight_limit:\n",
    "            new_sol.remove(child)\n",
    "    \n",
    "    ranked_sol = new_sol\n",
    "    \n",
    "    if (i + 1) < generation_num:\n",
    "        print('=== Moving to the new generation === ')\n",
    "    else:\n",
    "        print('=== Finish === ')\n",
    "    print('-----------------------------------------------------------------------------------------------------------------------------------------------------------')"
   ]
  },
  {
   "attachments": {},
   "cell_type": "markdown",
   "metadata": {},
   "source": [
    "Despite very large numbers, I left the generation at 5 because it found the result very quickly, as you can see, it gives the same result after 2 generations."
   ]
  }
 ],
 "metadata": {
  "kernelspec": {
   "display_name": "Python 3",
   "language": "python",
   "name": "python3"
  },
  "language_info": {
   "codemirror_mode": {
    "name": "ipython",
    "version": 3
   },
   "file_extension": ".py",
   "mimetype": "text/x-python",
   "name": "python",
   "nbconvert_exporter": "python",
   "pygments_lexer": "ipython3",
   "version": "3.10.1"
  },
  "orig_nbformat": 4
 },
 "nbformat": 4,
 "nbformat_minor": 2
}
